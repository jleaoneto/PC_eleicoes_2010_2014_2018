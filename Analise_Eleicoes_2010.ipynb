{
  "nbformat": 4,
  "nbformat_minor": 0,
  "metadata": {
    "colab": {
      "name": "Analise Eleicoes 2010.ipynb",
      "provenance": [],
      "collapsed_sections": [],
      "mount_file_id": "1a7UbDFE6ld7lVWLS6tn99j8U2BX0LeC0",
      "authorship_tag": "ABX9TyPbZK8NB+GH76rqvs2ACJo1",
      "include_colab_link": true
    },
    "kernelspec": {
      "name": "python3",
      "display_name": "Python 3"
    }
  },
  "cells": [
    {
      "cell_type": "markdown",
      "metadata": {
        "id": "view-in-github",
        "colab_type": "text"
      },
      "source": [
        "<a href=\"https://colab.research.google.com/github/jleaoneto/PC_eleicoes_2010_2014_2018/blob/Notebooks/Analise_Eleicoes_2010.ipynb\" target=\"_parent\"><img src=\"https://colab.research.google.com/assets/colab-badge.svg\" alt=\"Open In Colab\"/></a>"
      ]
    },
    {
      "cell_type": "code",
      "metadata": {
        "id": "JiR5eaIWI2gX",
        "cellView": "code",
        "colab": {
          "base_uri": "https://localhost:8080/",
          "height": 255
        },
        "outputId": "35d972c4-935b-4d8e-9ef9-a07aea2406a5"
      },
      "source": [
        "#@title Agregando a coluna NR_RECEITA_TOTAL e CD_ELEITO ao arquivo consulta_cand_2014_RN\n",
        "import pandas as pd\n",
        "import numpy as np\n",
        "\n",
        "#Leitura do arquivo\n",
        "path = '/content/drive/My Drive/Colab Notebooks/receitas_candidatos_2010_RN.csv'\n",
        "df = pd.read_csv(path, sep=';', encoding='latin1')\n",
        "#df.info()\n",
        "\n",
        "#Conversao para float\n",
        "df['VR_RECEITA'] = df['VR_RECEITA'].str.replace(',','.').astype('float')\n",
        "\n",
        "#Agregação das receitas por candidato\n",
        "df_2 = df.groupby(by=['NR_CPF_CANDIDATO'],as_index=False).agg({'VR_RECEITA' : np.sum})\n",
        "#df_2.reset_index(inplace=True)\n",
        "#df_2.rename( columns= {'Valor receita' : 'NR_RECEITA_TOTAL'},inplace=True)\n",
        "#df_2.info()\n",
        "\n",
        "#Leitura do arquivo consulta_cand_2018_RN e inclusão da coluna\n",
        "path_2 = '/content/drive/My Drive/Colab Notebooks/consulta_cand_2010_RN.csv'\n",
        "df_3 = pd.read_csv(path_2, sep=';', encoding='latin1')\n",
        "\n",
        "df_3 = df_3.query('DS_CARGO == \"DEPUTADO ESTADUAL\" or DS_CARGO == \"DEPUTADO FEDERAL\"')[['ANO_ELEICAO','DS_CARGO','NR_CPF_CANDIDATO','DS_GENERO','DS_SIT_TOT_TURNO']]\n",
        "\n",
        "df_3 = df_3.merge(df_2, on = 'NR_CPF_CANDIDATO', how='left')\n",
        "\n",
        "#Função para criar coluna CD_ELEITO (boolean) com base na colunca DS_SIT_TOT_TURNO\n",
        "def label_eleito (row):\n",
        "  if row['DS_SIT_TOT_TURNO'] == \"ELEITO\" :\n",
        "    return 1\n",
        "  elif row['DS_SIT_TOT_TURNO'] == \"MÉDIA\" :\n",
        "    return 1\n",
        "  else :\n",
        "    return 0\n",
        "\n",
        "#Criação da coluna CD_ELEITO\n",
        "df_3['CD_ELEITO'] = df_3.apply(lambda row : label_eleito(row), axis = 1)\n",
        "\n",
        "#Preencher as receitas que não estejam atribuídas\n",
        "df_3.fillna(value={'VR_RECEITA' : 0}, inplace=True)\n",
        "\n",
        "#Arredondas o valor para duas casas decimais\n",
        "df_3['VR_RECEITA'] = df_3['VR_RECEITA'].round(decimals=2)\n",
        "\n",
        "print(df_3)\n",
        "\n",
        "df_3.to_csv('/content/drive/My Drive/Colab Notebooks/consulta_cand_2010_RN_com_receita_e_eleito.csv', sep=';', encoding='latin1', index=False)\n",
        "\n",
        "\n",
        "\n"
      ],
      "execution_count": null,
      "outputs": [
        {
          "output_type": "stream",
          "text": [
            "     ANO_ELEICAO           DS_CARGO  ...  VR_RECEITA CD_ELEITO\n",
            "0           2010   DEPUTADO FEDERAL  ...   113772.00         0\n",
            "1           2010   DEPUTADO FEDERAL  ...     2750.00         0\n",
            "2           2010   DEPUTADO FEDERAL  ...      100.00         0\n",
            "3           2010   DEPUTADO FEDERAL  ...        0.00         0\n",
            "4           2010   DEPUTADO FEDERAL  ...    36558.38         0\n",
            "..           ...                ...  ...         ...       ...\n",
            "213         2010  DEPUTADO ESTADUAL  ...    20340.08         0\n",
            "214         2010  DEPUTADO ESTADUAL  ...   185432.79         1\n",
            "215         2010  DEPUTADO ESTADUAL  ...   780230.00         1\n",
            "216         2010  DEPUTADO ESTADUAL  ...    11037.08         0\n",
            "217         2010  DEPUTADO ESTADUAL  ...        0.00         0\n",
            "\n",
            "[218 rows x 7 columns]\n"
          ],
          "name": "stdout"
        }
      ]
    },
    {
      "cell_type": "code",
      "metadata": {
        "id": "7VDGBrk_UNTI"
      },
      "source": [
        ""
      ],
      "execution_count": null,
      "outputs": []
    }
  ]
}